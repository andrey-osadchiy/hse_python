{
 "cells": [
  {
   "cell_type": "markdown",
   "id": "7c115186-95eb-423f-9f86-a1b59853de1f",
   "metadata": {},
   "source": [
    "# Python для инженерии данныхий 1, 2 и 3.не валиден."
   ]
  },
  {
   "cell_type": "markdown",
   "id": "abe588bd-639b-42e4-88b3-5c6346f67e39",
   "metadata": {},
   "source": []
  },
  {
   "cell_type": "markdown",
   "id": "3f9830a4-2fc4-4db1-966b-3556a2a1ca39",
   "metadata": {},
   "source": [
    "Требуется параллельно (насколько возможно с помощью потоков) выполнить вычисления по формуле 1, вычисления по формуле 2. \n",
    "\n",
    "Затем выполнить вычисления по формуле 3, которые выглядят следующим образом: результат вычислений 1 + результат вычислений 2.\n",
    "\n",
    "Выполнить последовательно на 10 000 итераций и 100 000 итераций."
   ]
  },
  {
   "cell_type": "markdown",
   "id": "50de7c5f-b3dd-4390-a1d0-821daeab9c37",
   "metadata": {},
   "source": [
    "Формула 1: f(x) = x^2-x^2+x*4-x*5+x+x\n",
    "\n",
    "Формула 2: f(x) = x+x\n",
    "\n",
    "Вывести длительность выполнения всех 10 000 итераций и 100 000 итераций в\n",
    "секундах в разбивке по шагам вычислений 1, 2 и 3."
   ]
  },
  {
   "cell_type": "code",
   "execution_count": 5,
   "id": "e9baa2c6-62c3-4d0f-976a-f10aa7d7d1b2",
   "metadata": {},
   "outputs": [],
   "source": [
    "import threading\n",
    "import time\n",
    "\n",
    "def formula_1(x):\n",
    "    # Формула 1: f(x) = x^2-x^2+x*4-x*5+x+x\n",
    "    return x**2 - x**2 + x*4 - x*5 + x + x\n",
    "\n",
    "def formula_2(x):\n",
    "    # Формула 2: f(x) = x + x\n",
    "    return x + x\n",
    "\n",
    "def calculate_formula_1(iterations, results):\n",
    "    \"\"\"Вычисления по формуле 1\"\"\"\n",
    "    for i in range(iterations):\n",
    "        results.append(formula_1(i))\n",
    "\n",
    "def calculate_formula_2(iterations, results):\n",
    "    \"\"\"Вычисления по формуле 2\"\"\"\n",
    "    for i in range(iterations):\n",
    "        results.append(formula_2(i))\n",
    "\n",
    "def calculate_formula_3(results1, results2):\n",
    "    \"\"\"Вычисления по формуле 3: результат вычислений 1 + результат вычислений 2\"\"\"\n",
    "    combined_results = []\n",
    "    for r1, r2 in zip(results1, results2):\n",
    "        combined_results.append(r1 + r2)\n",
    "    return combined_results\n",
    "\n",
    "def run_iterations(iterations):\n",
    "    # Шаг 1 и 2: параллельные вычисления\n",
    "    results_1 = []\n",
    "    results_2 = []\n",
    "    \n",
    "    thread_1 = threading.Thread(target=calculate_formula_1, args=(iterations, results_1))\n",
    "    thread_2 = threading.Thread(target=calculate_formula_2, args=(iterations, results_2))\n",
    "    \n",
    "    start_time = time.time()\n",
    "\n",
    "    # Запуск потоков\n",
    "    thread_1.start()\n",
    "    thread_2.start()\n",
    "\n",
    "    # Ожидание завершения потоков\n",
    "    thread_1.join()\n",
    "    thread_2.join()\n",
    "\n",
    "    # Измерение времени для формулы 1 и 2\n",
    "    end_parallel_time = time.time()\n",
    "    \n",
    "    # Шаг 3: последовательно вычисляем формулу 3\n",
    "    combined_results = calculate_formula_3(results_1, results_2)\n",
    "    \n",
    "    end_total_time = time.time()\n",
    "    \n",
    "    # Печатаем результаты по шагам\n",
    "    print(f\"Для {iterations} итераций:\")\n",
    "    print(f\"Время выполнения формулы 1 и 2 (параллельно): {end_parallel_time - start_time:.4f} сек.\")\n",
    "    print(f\"Время выполнения формулы 3 (последовательно): {end_total_time - end_parallel_time:.4f} сек.\")\n",
    "    print(f\"Общее время выполнения: {end_total_time - start_time:.4f} сек.\")\n",
    "    print(\"=\"*40)"
   ]
  },
  {
   "cell_type": "code",
   "execution_count": 3,
   "id": "e692abc8-c117-43fd-958e-06465b5655f7",
   "metadata": {},
   "outputs": [
    {
     "name": "stdout",
     "output_type": "stream",
     "text": [
      "Для 10000 итераций:\n",
      "Время выполнения формулы 1 и 2 (параллельно): 0.0229 сек.\n",
      "Время выполнения формулы 3 (последовательно): 0.0030 сек.\n",
      "Общее время выполнения: 0.0260 сек.\n",
      "========================================\n",
      "Для 100000 итераций:\n",
      "Время выполнения формулы 1 и 2 (параллельно): 0.1446 сек.\n",
      "Время выполнения формулы 3 (последовательно): 0.0199 сек.\n",
      "Общее время выполнения: 0.1645 сек.\n",
      "========================================\n"
     ]
    }
   ],
   "source": [
    "# Выполняем программу для 10,000 и 100,000 итераций\n",
    "run_iterations(10000)\n",
    "run_iterations(100000)"
   ]
  },
  {
   "cell_type": "code",
   "execution_count": null,
   "id": "bd1e729e-1e66-4591-a612-9c70a0abaf0d",
   "metadata": {},
   "outputs": [],
   "source": []
  }
 ],
 "metadata": {
  "kernelspec": {
   "display_name": "Python 3 (ipykernel)",
   "language": "python",
   "name": "python3"
  },
  "language_info": {
   "codemirror_mode": {
    "name": "ipython",
    "version": 3
   },
   "file_extension": ".py",
   "mimetype": "text/x-python",
   "name": "python",
   "nbconvert_exporter": "python",
   "pygments_lexer": "ipython3",
   "version": "3.12.4"
  }
 },
 "nbformat": 4,
 "nbformat_minor": 5
}

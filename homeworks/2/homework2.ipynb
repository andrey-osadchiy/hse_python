{
 "cells": [
  {
   "cell_type": "markdown",
   "id": "0b9c4dfa-f048-4aab-913a-7cdbb047575b",
   "metadata": {},
   "source": [
    "# Python для инженерии данных\n",
    "## Тема 2. Время и даты в Python\n",
    "### Домашнее задание\n",
    "\n",
    "#### Задание 1\n",
    "Печатные газеты использовали свой формат дат для каждого выпуска.\n",
    "Для каждой \n",
    "газеты из списка напишите формат указанной даты для перевода в объект datetime\n",
    "\n",
    "+ The Moscow Times - Wednesday, October 2, 2002\n",
    "+ The Guardian - Friday, 11.10.13\n",
    "+ Daily News - Thursday, 18 August 1977 1977"
   ]
  },
  {
   "cell_type": "code",
   "execution_count": 120,
   "id": "5f76fd44-e31b-42b7-bed0-662d89904709",
   "metadata": {},
   "outputs": [],
   "source": [
    "from datetime import datetime,timedelta"
   ]
  },
  {
   "cell_type": "code",
   "execution_count": 87,
   "id": "3d24df72-0661-4713-aeb3-1df528e85234",
   "metadata": {},
   "outputs": [],
   "source": [
    "date_a = datetime(2002, 10, 2)\n",
    "date_b=datetime(2013, 10, 11)\n",
    "date_c=datetime(1977, 8, 18) "
   ]
  },
  {
   "cell_type": "code",
   "execution_count": 89,
   "id": "19d66245-ff11-437e-bebb-85ea61be65da",
   "metadata": {},
   "outputs": [],
   "source": [
    "date_string_a=date_a.strftime('The Moscow Times - %A, %B %d, %Y')\n",
    "date_string_b=date_b.strftime('The Guardian - %A, %d.%m.%y')\n",
    "date_string_c=date_c.strftime('Daily News - %A, %d %B %Y')"
   ]
  },
  {
   "cell_type": "code",
   "execution_count": 91,
   "id": "ce339648-cb5e-41ef-9fe0-6a282cdd45ff",
   "metadata": {},
   "outputs": [
    {
     "data": {
      "text/plain": [
       "'The Moscow Times - Wednesday, October 02, 2002'"
      ]
     },
     "execution_count": 91,
     "metadata": {},
     "output_type": "execute_result"
    }
   ],
   "source": [
    "date_string_a"
   ]
  },
  {
   "cell_type": "code",
   "execution_count": 93,
   "id": "e91d3bc2-f697-4db8-93a7-3fc37a5b3ebc",
   "metadata": {},
   "outputs": [
    {
     "data": {
      "text/plain": [
       "'The Guardian - Friday, 11.10.13'"
      ]
     },
     "execution_count": 93,
     "metadata": {},
     "output_type": "execute_result"
    }
   ],
   "source": [
    "date_string_b"
   ]
  },
  {
   "cell_type": "code",
   "execution_count": 95,
   "id": "c790b927-ad44-4193-a4ac-0bb6bc0a4e50",
   "metadata": {},
   "outputs": [
    {
     "data": {
      "text/plain": [
       "'Daily News - Thursday, 18 August 1977'"
      ]
     },
     "execution_count": 95,
     "metadata": {},
     "output_type": "execute_result"
    }
   ],
   "source": [
    "date_string_c"
   ]
  },
  {
   "cell_type": "markdown",
   "id": "50b50af6-9247-4ea1-8df3-f1c507466f8d",
   "metadata": {},
   "source": [
    "### Задание 2\n",
    "Напишите функцию date_range, которая возвращает список дат за период от start_date\r\n",
    "до end_date.\n",
    "\n",
    " Даты должны вводиться в формате YYYY-MM-DD. В случае неверного\r\n",
    "формата или при start_date > end_date должен возвращаться пустой список."
   ]
  },
  {
   "cell_type": "code",
   "execution_count": 125,
   "id": "57f3dd6b-5a17-4e66-98be-7cc4a2d0bb1b",
   "metadata": {},
   "outputs": [],
   "source": [
    "def date_range(start_date, end_date):\n",
    "    try:\n",
    "        start_date = datetime.strptime(start_date, '%Y-%m-%d')\n",
    "        end_date = datetime.strptime(end_date, '%Y-%m-%d')\n",
    "    except ValueError:\n",
    "        return []\n",
    "    if start_date>end_date:\n",
    "        print([])\n",
    "    dist = []\n",
    "    while start_date<=end_date:\n",
    "        dist.append(start_date.strftime('%Y-%m-%d')) \n",
    "        start_date += timedelta(days=1)\n",
    "    return dist"
   ]
  },
  {
   "cell_type": "code",
   "execution_count": 127,
   "id": "51ef581d-a7ea-4b4c-a0a4-25f4f258f02b",
   "metadata": {},
   "outputs": [
    {
     "data": {
      "text/plain": [
       "['2022-01-01', '2022-01-02', '2022-01-03']"
      ]
     },
     "execution_count": 127,
     "metadata": {},
     "output_type": "execute_result"
    }
   ],
   "source": [
    "date_range('2022-01-01', '2022-01-03')"
   ]
  },
  {
   "cell_type": "code",
   "execution_count": 129,
   "id": "d74d538b-d0b5-41aa-8964-7f5b420e79b1",
   "metadata": {},
   "outputs": [
    {
     "name": "stdout",
     "output_type": "stream",
     "text": [
      "[]\n"
     ]
    },
    {
     "data": {
      "text/plain": [
       "[]"
      ]
     },
     "execution_count": 129,
     "metadata": {},
     "output_type": "execute_result"
    }
   ],
   "source": [
    "date_range('2022-01-03', '2022-01-01')"
   ]
  },
  {
   "cell_type": "code",
   "execution_count": 131,
   "id": "8533ff79-05e9-4ffd-a576-67b5209c6a45",
   "metadata": {},
   "outputs": [
    {
     "data": {
      "text/plain": [
       "[]"
      ]
     },
     "execution_count": 131,
     "metadata": {},
     "output_type": "execute_result"
    }
   ],
   "source": [
    "date_range('2022-02-30', '2022-02-31')"
   ]
  },
  {
   "cell_type": "code",
   "execution_count": null,
   "id": "aabdfa85-a098-48e6-8777-7a05704e1f3c",
   "metadata": {},
   "outputs": [],
   "source": []
  }
 ],
 "metadata": {
  "kernelspec": {
   "display_name": "Python 3 (ipykernel)",
   "language": "python",
   "name": "python3"
  },
  "language_info": {
   "codemirror_mode": {
    "name": "ipython",
    "version": 3
   },
   "file_extension": ".py",
   "mimetype": "text/x-python",
   "name": "python",
   "nbconvert_exporter": "python",
   "pygments_lexer": "ipython3",
   "version": "3.12.4"
  }
 },
 "nbformat": 4,
 "nbformat_minor": 5
}

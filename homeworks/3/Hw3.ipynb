{
 "cells": [
  {
   "cell_type": "markdown",
   "id": "5e455f07-b354-443a-844d-f424e2f5b41d",
   "metadata": {},
   "source": [
    "# Python для инженерии данных\n",
    "## Тема 3. Тема 3. Понятие класса\n",
    "### Домашнее задание\n",
    "\n",
    "#### Задание \n",
    "Нужно реализовать класс Account, который отражает абстракцию базового\r\n",
    "поведения банковского аккаунта\n",
    "\n",
    "+ создать банковский аккаунт с параметрами: имя; стартовый баланс с \n",
    "которым зарегистрирован аккаун\n",
    "+ реализовать два метода, которые позволяют положить деньги на счёт \n",
    "или снять деньги со счёт;;чёта;"
   ]
  },
  {
   "cell_type": "code",
   "execution_count": 16,
   "id": "c84063e9-435a-4467-93ce-7cbebcd4b788",
   "metadata": {},
   "outputs": [],
   "source": [
    "class Account:\n",
    "    def __init__(self, name, balance=0):\n",
    "        self.name = name\n",
    "        self.balance = balance\n",
    "\n",
    "    def deposit(self, amount):\n",
    "        \"\"\"Положить деньги на счёт\"\"\"\n",
    "        if amount > 0:\n",
    "            self.balance += amount\n",
    "            print(f'На счет поступило {amount} у.е.')\n",
    "        else:\n",
    "            print('Сумма депозита обязана быть положительной')\n",
    "\n",
    "    def withdraw(self, amount):\n",
    "        \"\"\"Снять деньги со счёта\"\"\"\n",
    "        if amount <= self.balance:  # Исправлено условие на <=\n",
    "            self.balance -= amount\n",
    "            print(f'Со счета сняли {amount} у.е.')\n",
    "        else:\n",
    "            print('Вы пытаетесь снять со счёта большую сумму, чем есть на нём')\n",
    "\n",
    "    def show_balance(self):\n",
    "        print(f'На счёте {self.name} в данный момент {self.balance} у.е.')"
   ]
  },
  {
   "cell_type": "code",
   "execution_count": 18,
   "id": "c38c723e-5e84-4584-aeac-2c6beef7ac4b",
   "metadata": {},
   "outputs": [
    {
     "name": "stdout",
     "output_type": "stream",
     "text": [
      "На счет поступило 50 у.е.\n",
      "Со счета сняли 30 у.е.\n",
      "На счёте Андрей в данный момент 120 у.е.\n"
     ]
    }
   ],
   "source": [
    "# Пример использования:\n",
    "acc = Account('Андрей', 100)\n",
    "acc.deposit(50)        # На счет поступило 50 у.е.\n",
    "acc.withdraw(30)       # Со счета сняли 30 у.е.\n",
    "acc.show_balance()     # На счёте John в данный момент 120 у.е."
   ]
  },
  {
   "cell_type": "code",
   "execution_count": null,
   "id": "c9c0eac7-c133-41b0-b04c-a6a960e22d74",
   "metadata": {},
   "outputs": [],
   "source": []
  }
 ],
 "metadata": {
  "kernelspec": {
   "display_name": "Python 3 (ipykernel)",
   "language": "python",
   "name": "python3"
  },
  "language_info": {
   "codemirror_mode": {
    "name": "ipython",
    "version": 3
   },
   "file_extension": ".py",
   "mimetype": "text/x-python",
   "name": "python",
   "nbconvert_exporter": "python",
   "pygments_lexer": "ipython3",
   "version": "3.12.4"
  }
 },
 "nbformat": 4,
 "nbformat_minor": 5
}

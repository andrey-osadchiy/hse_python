{
 "cells": [
  {
   "cell_type": "markdown",
   "id": "3ca9b9ef-7d47-4624-be63-74c148afa67c",
   "metadata": {},
   "source": [
    "# Python для инженерии данных\n",
    "## Тема 4. Регулярные выражения\n",
    "### Домашнее задание\n",
    "\n",
    "#### Задание \n",
    "Напишите функцию, которая принимает на вход строку и проверяет, является\n",
    "ли она валидным транспортным номером (1 буква, 3 цифры, 2 буквы, 2–3\n",
    "цифры). Обратите внимание, что не все буквы кириллического алфавита\n",
    "используются в транспортных номерах.\n",
    "Если номер валиден, то функция должна возвращать отдельно номер и регион."
   ]
  },
  {
   "cell_type": "markdown",
   "id": "8c793670-b791-4621-9eda-e1def91d82da",
   "metadata": {},
   "source": [
    "Примеры работы программы:\r\n",
    "car_id = 'А222BС96 '\r\n",
    "Результат: Номер А222BС валиде\n",
    ". Регион: 9ден."
   ]
  },
  {
   "cell_type": "markdown",
   "id": "eff43d42-bfcd-4822-be80-0162e564b753",
   "metadata": {},
   "source": [
    "сar_id = 'АБ22ВВ193'\n",
    "\n",
    "\n",
    "Результат: Номер не валиден."
   ]
  },
  {
   "cell_type": "code",
   "execution_count": 1,
   "id": "b04139c0-b617-4056-92ae-fb5f37edba25",
   "metadata": {},
   "outputs": [],
   "source": [
    "import re\n",
    "\n",
    "def validate_car_number(car_id):\n",
    "    pattern = r'^([АВЕКМНОРСТУХ]{1}\\d{3}[АВЕКМНОРСТУХ]{2})(\\d{2,3})$'\n",
    "    \n",
    "    match = re.match(pattern, car_id)\n",
    "    \n",
    "    if match:\n",
    "        number = match.group(1)\n",
    "        region = match.group(2)\n",
    "        return f'Номер {number} валиден. Регион: {region}.'\n",
    "    else:\n",
    "        # Если номер не соответствует шаблону\n",
    "        return 'Номер не валиден.'\n"
   ]
  },
  {
   "cell_type": "code",
   "execution_count": 3,
   "id": "8994ddae-eab1-448e-8471-ba5470b4c904",
   "metadata": {},
   "outputs": [],
   "source": [
    "car_id_1 = 'А222ВС96'\n",
    "car_id_2 = 'АБ22ВВ193'"
   ]
  },
  {
   "cell_type": "code",
   "execution_count": 5,
   "id": "3d5a965a-c7aa-4f5d-81b8-94930eb49994",
   "metadata": {},
   "outputs": [
    {
     "name": "stdout",
     "output_type": "stream",
     "text": [
      "Номер А222ВС валиден. Регион: 96.\n"
     ]
    }
   ],
   "source": [
    "print(validate_car_number(car_id_1))  # Номер А222ВС валиден. Регион: 96."
   ]
  },
  {
   "cell_type": "code",
   "execution_count": 7,
   "id": "6d5a06be-656b-44f1-928d-40c5260be632",
   "metadata": {},
   "outputs": [
    {
     "name": "stdout",
     "output_type": "stream",
     "text": [
      "Номер не валиден.\n"
     ]
    }
   ],
   "source": [
    "print(validate_car_number(car_id_2))  # Номер не валиден."
   ]
  },
  {
   "cell_type": "code",
   "execution_count": null,
   "id": "ffcbf48a-3380-4522-9b16-edb51957be7a",
   "metadata": {},
   "outputs": [],
   "source": []
  }
 ],
 "metadata": {
  "kernelspec": {
   "display_name": "Python 3 (ipykernel)",
   "language": "python",
   "name": "python3"
  },
  "language_info": {
   "codemirror_mode": {
    "name": "ipython",
    "version": 3
   },
   "file_extension": ".py",
   "mimetype": "text/x-python",
   "name": "python",
   "nbconvert_exporter": "python",
   "pygments_lexer": "ipython3",
   "version": "3.12.4"
  }
 },
 "nbformat": 4,
 "nbformat_minor": 5
}
